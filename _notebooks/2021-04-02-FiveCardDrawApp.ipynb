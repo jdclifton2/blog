{
  "nbformat": 4,
  "nbformat_minor": 0,
  "metadata": {
    "colab": {
      "name": "FiveCardDrawApp.ipynb",
      "provenance": []
    },
    "kernelspec": {
      "name": "python3",
      "display_name": "Python 3"
    },
    "language_info": {
      "name": "python"
    }
  },
  "cells": [
    {
      "cell_type": "markdown",
      "metadata": {
        "id": "y9VknPskQKMq"
      },
      "source": [
        "#Five Card Draw Mobile Application\n",
        "\n",
        "This project is a Five Card Draw mobile app written for Android using the Java programming language. It makes use of several key android concepts such as fragments, activities, and creating user interfaces."
      ]
    },
    {
      "cell_type": "markdown",
      "metadata": {
        "id": "Mdd8KiwvOgW8"
      },
      "source": [
        "<img src = 'https://drive.google.com/uc?id=1Lp9i_jgoIn2kTGpyWkvxq_wO01IrjVVh' width=\"300\" height=\"400\">\n",
        "\n",
        "A loading screen that shuffles through the cards as the program loads."
      ]
    },
    {
      "cell_type": "markdown",
      "metadata": {
        "id": "I_m4-26UPJDJ"
      },
      "source": [
        "<img src = 'https://drive.google.com/uc?id=1In3y8_BkMB_8aUvuzh0WrhYdZJ5oUnMV' width=\"300\" height=\"400\">>\n",
        "\n",
        "The game menu allows for the user to enter their name or view the different types of winning hands and their respective rewards.\n",
        "\n",
        "\n",
        "\n",
        "\n"
      ]
    },
    {
      "cell_type": "markdown",
      "metadata": {
        "id": "GyBW8OGPPNpj"
      },
      "source": [
        "\n",
        "<img src = 'https://drive.google.com/uc?id=11o_WdQ2iSb121lkCbJaVHZ4u9hvqlVEq' width=\"300\" height=\"400\">>\n",
        "\n",
        "\n",
        "An explanation of a royal flush. Explanations exist for all different hand types."
      ]
    },
    {
      "cell_type": "markdown",
      "metadata": {
        "id": "VMRdTAetPHG2"
      },
      "source": [
        "<img src = 'https://drive.google.com/uc?id=1GcIMptOgWPN22TNSFFIXfDJR0YOLicNn' width=\"300\" height=\"400\">>\n",
        "\n",
        "The gameplay screen. This screen is made from two android fragments. The bottom fragment uses a listview and an adapter, the player can view the different types of winning hands at any time.\n",
        "\n"
      ]
    },
    {
      "cell_type": "markdown",
      "metadata": {
        "id": "-BpK4TL2PONO"
      },
      "source": [
        "\n",
        "<img src = 'https://drive.google.com/uc?id=1uu5D0wP1wwgN0pH_c3z-rCQn3znzQoMo' width=\"300\" height=\"400\">>\n",
        "\n",
        "The user can play the game by clicking on the various poker chips. \n"
      ]
    },
    {
      "cell_type": "markdown",
      "metadata": {
        "id": "aIt3QJIMPN9o"
      },
      "source": [
        "\n",
        "\n",
        "<img src = 'https://drive.google.com/uc?id=1qcD23jeYJNrYTM7OUl-1Z9f-Eq8YF8d_' width=\"300\" height=\"400\">>\n",
        "\n",
        "An example of the user holding specific cards.\n"
      ]
    },
    {
      "cell_type": "markdown",
      "metadata": {
        "id": "PpeY9bcTPmlK"
      },
      "source": [
        "\n",
        "\n",
        "\n",
        "<img src = 'https://drive.google.com/uc?id=1TC5TcbRvXv7uHTvbGGYzutNlI-6KRcPc' width=\"300\" height=\"400\">>\n",
        "\n",
        "If the user wins, they recieve a notification and may play again. A pool of the users winnings is kept throughout the course of the game. \n"
      ]
    },
    {
      "cell_type": "code",
      "metadata": {
        "id": "gyje1kqxQHwx"
      },
      "source": [
        ""
      ],
      "execution_count": null,
      "outputs": []
    },
    {
      "cell_type": "code",
      "metadata": {
        "id": "VBaJygxeQWj-"
      },
      "source": [
        ""
      ],
      "execution_count": null,
      "outputs": []
    }
  ]
}